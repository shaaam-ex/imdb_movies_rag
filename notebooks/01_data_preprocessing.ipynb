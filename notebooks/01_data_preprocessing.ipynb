{
  "cells": [
    {
      "cell_type": "code",
      "execution_count": 1,
      "metadata": {
        "id": "3-yHKbA9QdQt"
      },
      "outputs": [],
      "source": [
        "import pandas as pd"
      ]
    },
    {
      "cell_type": "code",
      "execution_count": 2,
      "metadata": {},
      "outputs": [
        {
          "data": {
            "text/html": [
              "<div>\n",
              "<style scoped>\n",
              "    .dataframe tbody tr th:only-of-type {\n",
              "        vertical-align: middle;\n",
              "    }\n",
              "\n",
              "    .dataframe tbody tr th {\n",
              "        vertical-align: top;\n",
              "    }\n",
              "\n",
              "    .dataframe thead th {\n",
              "        text-align: right;\n",
              "    }\n",
              "</style>\n",
              "<table border=\"1\" class=\"dataframe\">\n",
              "  <thead>\n",
              "    <tr style=\"text-align: right;\">\n",
              "      <th></th>\n",
              "      <th>title</th>\n",
              "      <th>overview</th>\n",
              "      <th>cast</th>\n",
              "      <th>crew</th>\n",
              "    </tr>\n",
              "  </thead>\n",
              "  <tbody>\n",
              "    <tr>\n",
              "      <th>0</th>\n",
              "      <td>Avatar</td>\n",
              "      <td>In the 22nd century, a paraplegic Marine is di...</td>\n",
              "      <td>[{\"cast_id\": 242, \"character\": \"Jake Sully\", \"...</td>\n",
              "      <td>[{\"credit_id\": \"52fe48009251416c750aca23\", \"de...</td>\n",
              "    </tr>\n",
              "    <tr>\n",
              "      <th>1</th>\n",
              "      <td>Pirates of the Caribbean: At World's End</td>\n",
              "      <td>Captain Barbossa, long believed to be dead, ha...</td>\n",
              "      <td>[{\"cast_id\": 4, \"character\": \"Captain Jack Spa...</td>\n",
              "      <td>[{\"credit_id\": \"52fe4232c3a36847f800b579\", \"de...</td>\n",
              "    </tr>\n",
              "    <tr>\n",
              "      <th>2</th>\n",
              "      <td>Spectre</td>\n",
              "      <td>A cryptic message from Bond’s past sends him o...</td>\n",
              "      <td>[{\"cast_id\": 1, \"character\": \"James Bond\", \"cr...</td>\n",
              "      <td>[{\"credit_id\": \"54805967c3a36829b5002c41\", \"de...</td>\n",
              "    </tr>\n",
              "    <tr>\n",
              "      <th>3</th>\n",
              "      <td>The Dark Knight Rises</td>\n",
              "      <td>Following the death of District Attorney Harve...</td>\n",
              "      <td>[{\"cast_id\": 2, \"character\": \"Bruce Wayne / Ba...</td>\n",
              "      <td>[{\"credit_id\": \"52fe4781c3a36847f81398c3\", \"de...</td>\n",
              "    </tr>\n",
              "    <tr>\n",
              "      <th>4</th>\n",
              "      <td>John Carter</td>\n",
              "      <td>John Carter is a war-weary, former military ca...</td>\n",
              "      <td>[{\"cast_id\": 5, \"character\": \"John Carter\", \"c...</td>\n",
              "      <td>[{\"credit_id\": \"52fe479ac3a36847f813eaa3\", \"de...</td>\n",
              "    </tr>\n",
              "  </tbody>\n",
              "</table>\n",
              "</div>"
            ],
            "text/plain": [
              "                                      title  \\\n",
              "0                                    Avatar   \n",
              "1  Pirates of the Caribbean: At World's End   \n",
              "2                                   Spectre   \n",
              "3                     The Dark Knight Rises   \n",
              "4                               John Carter   \n",
              "\n",
              "                                            overview  \\\n",
              "0  In the 22nd century, a paraplegic Marine is di...   \n",
              "1  Captain Barbossa, long believed to be dead, ha...   \n",
              "2  A cryptic message from Bond’s past sends him o...   \n",
              "3  Following the death of District Attorney Harve...   \n",
              "4  John Carter is a war-weary, former military ca...   \n",
              "\n",
              "                                                cast  \\\n",
              "0  [{\"cast_id\": 242, \"character\": \"Jake Sully\", \"...   \n",
              "1  [{\"cast_id\": 4, \"character\": \"Captain Jack Spa...   \n",
              "2  [{\"cast_id\": 1, \"character\": \"James Bond\", \"cr...   \n",
              "3  [{\"cast_id\": 2, \"character\": \"Bruce Wayne / Ba...   \n",
              "4  [{\"cast_id\": 5, \"character\": \"John Carter\", \"c...   \n",
              "\n",
              "                                                crew  \n",
              "0  [{\"credit_id\": \"52fe48009251416c750aca23\", \"de...  \n",
              "1  [{\"credit_id\": \"52fe4232c3a36847f800b579\", \"de...  \n",
              "2  [{\"credit_id\": \"54805967c3a36829b5002c41\", \"de...  \n",
              "3  [{\"credit_id\": \"52fe4781c3a36847f81398c3\", \"de...  \n",
              "4  [{\"credit_id\": \"52fe479ac3a36847f813eaa3\", \"de...  "
            ]
          },
          "execution_count": 2,
          "metadata": {},
          "output_type": "execute_result"
        }
      ],
      "source": [
        "# Loading the datasets\n",
        "movies_df = pd.read_csv('../data/tmdb_5000_movies.csv')\n",
        "credits_df = pd.read_csv('../data/tmdb_5000_credits.csv')\n",
        "\n",
        "# Merging the common column (movie title)\n",
        "df = movies_df.merge(credits_df, left_on='title', right_on='title')\n",
        "\n",
        "# Time to view the data (some of it)\n",
        "df[['title', 'overview', 'cast', 'crew']].head()"
      ]
    },
    {
      "cell_type": "code",
      "execution_count": 3,
      "metadata": {},
      "outputs": [
        {
          "data": {
            "text/plain": [
              "'[{\"id\": 28, \"name\": \"Action\"}, {\"id\": 12, \"name\": \"Adventure\"}, {\"id\": 14, \"name\": \"Fantasy\"}, {\"id\": 878, \"name\": \"Science Fiction\"}]'"
            ]
          },
          "execution_count": 3,
          "metadata": {},
          "output_type": "execute_result"
        }
      ],
      "source": [
        "# RAG systems don’t embed raw tables, rather they work on text chunks. \n",
        "# So we take each movie and convert its data (title, overview, cast, etc.) into a single retrievable text block like this:\n",
        "\n",
        "# Movie: Inception\\nGenres: Action, Sci-Fi\\nOverview: A thief who enters dreams...\\nTop Cast: Leonardo DiCaprio, Joseph Gordon-Levitt...\"\n",
        "\n",
        "# These columns (like genre) are stored as strings that look like lists of dictionaries.\n",
        "df['genres'][0]"
      ]
    },
    {
      "cell_type": "code",
      "execution_count": 4,
      "metadata": {},
      "outputs": [],
      "source": [
        "# Let’s parse them\n",
        "import ast\n",
        "\n",
        "# Helper to extract names from JSON-like lists\n",
        "def extract_names(json_str, top_n=None):\n",
        "    try:\n",
        "        items = ast.literal_eval(json_str)\n",
        "        names = [item['name'] for item in items]\n",
        "        if top_n:\n",
        "            names = names[:top_n]\n",
        "        return ', '.join(names)\n",
        "    except (ValueError, SyntaxError):\n",
        "        return ''"
      ]
    },
    {
      "cell_type": "code",
      "execution_count": 5,
      "metadata": {},
      "outputs": [],
      "source": [
        "# Applying it\n",
        "df['genres_clean'] = df['genres'].apply(lambda x: extract_names(x))\n",
        "df['cast_clean'] = df['cast'].apply(lambda x: extract_names(x, top_n=5))\n",
        "df['crew_clean'] = df['crew'].apply(lambda x: extract_names(x, top_n=5))"
      ]
    },
    {
      "cell_type": "code",
      "execution_count": 6,
      "metadata": {},
      "outputs": [],
      "source": [
        "# Let’s now convert each row into a single string block\n",
        "def build_movie_document(row):\n",
        "    return f\"\"\"\n",
        "    Title: {row['title']}\n",
        "    Genres: {row['genres_clean']}\n",
        "    Overview: {row['overview']}\n",
        "    Cast: {row['cast_clean']}\n",
        "    Crew: {row['crew_clean']}\n",
        "    \"\"\"\n",
        "    \n",
        "df['document'] = df.apply(build_movie_document, axis=1)"
      ]
    },
    {
      "cell_type": "code",
      "execution_count": 7,
      "metadata": {},
      "outputs": [
        {
          "name": "stdout",
          "output_type": "stream",
          "text": [
            "\n",
            "    Title: Avatar\n",
            "    Genres: Action, Adventure, Fantasy, Science Fiction\n",
            "    Overview: In the 22nd century, a paraplegic Marine is dispatched to the moon Pandora on a unique mission, but becomes torn between following orders and protecting an alien civilization.\n",
            "    Cast: Sam Worthington, Zoe Saldana, Sigourney Weaver, Stephen Lang, Michelle Rodriguez\n",
            "    Crew: Stephen E. Rivkin, Rick Carter, Christopher Boyes, Christopher Boyes, Mali Finn\n",
            "    \n"
          ]
        }
      ],
      "source": [
        "# Time to view it\n",
        "print(df['document'].iloc[0])"
      ]
    },
    {
      "cell_type": "code",
      "execution_count": 8,
      "metadata": {},
      "outputs": [
        {
          "name": "stderr",
          "output_type": "stream",
          "text": [
            "/home/exton/.pyenv/versions/3.10.13/lib/python3.10/site-packages/tqdm/auto.py:21: TqdmWarning: IProgress not found. Please update jupyter and ipywidgets. See https://ipywidgets.readthedocs.io/en/stable/user_install.html\n",
            "  from .autonotebook import tqdm as notebook_tqdm\n"
          ]
        }
      ],
      "source": [
        "# Time to do embedding\n",
        "from sentence_transformers import SentenceTransformer\n",
        "\n",
        "# Loading a pre-trained model (small & fast)\n",
        "model = SentenceTransformer('all-MiniLM-L6-v2')"
      ]
    },
    {
      "cell_type": "code",
      "execution_count": 9,
      "metadata": {},
      "outputs": [
        {
          "name": "stderr",
          "output_type": "stream",
          "text": [
            "Batches: 100%|██████████| 151/151 [00:14<00:00, 10.51it/s]\n"
          ]
        }
      ],
      "source": [
        "# Getting the list of movie documents\n",
        "documents = df['document'].tolist()\n",
        "\n",
        "# Generating embeddings\n",
        "embeddings = model.encode(documents, show_progress_bar=True)\n",
        "\n",
        "# documents[i] → natural-language chunk for movie i\n",
        "# embeddings[i] → 384-dimensional vector representing that chunk"
      ]
    },
    {
      "cell_type": "code",
      "execution_count": 10,
      "metadata": {},
      "outputs": [],
      "source": [
        "# Using ChromaDb\n",
        "import chromadb\n",
        "from chromadb.config import Settings\n",
        "\n",
        "client = chromadb.Client(Settings())\n",
        "\n",
        "collection = client.create_collection(name=\"movies\")"
      ]
    },
    {
      "cell_type": "code",
      "execution_count": 11,
      "metadata": {},
      "outputs": [],
      "source": [
        "# Adding documents to the vector DB\n",
        "collection.add(\n",
        "    documents=documents,\n",
        "    embeddings=embeddings,\n",
        "    ids=[str(i) for i in range(len(documents))] \n",
        ")"
      ]
    },
    {
      "cell_type": "code",
      "execution_count": 12,
      "metadata": {},
      "outputs": [],
      "source": [
        "# Now, It's time for handling the input queries\n",
        "query = \"What is Shutter Island About?\"\n",
        "\n",
        "# First, I will Embed the Query using the same model\n",
        "query_embedding = model.encode([query])[0]\n",
        "\n",
        "# Now, I'll Search Chroma for Relevant Documents\n",
        "results = collection.query(\n",
        "    query_embeddings=[query_embedding],\n",
        "    n_results=3  # top 3 most similar documents\n",
        ")\n",
        "\n",
        "\n",
        "# The result is something like:\n",
        "#   results = {\n",
        "#       'documents': [['Title: Inception\\nGenres: ...\\nCrew: Christopher Nolan']],\n",
        "#       'ids': [['42']],\n",
        "#       'distances': [[0.12]]\n",
        "#   }"
      ]
    },
    {
      "cell_type": "code",
      "execution_count": 13,
      "metadata": {},
      "outputs": [],
      "source": [
        "# Now, I'll Extract the Retrieved Context\n",
        "retrieved_context = results['documents'][0]  # list of top 3 chunks\n",
        "context_text = \"\\n\\n\".join(retrieved_context)"
      ]
    },
    {
      "cell_type": "code",
      "execution_count": null,
      "metadata": {},
      "outputs": [],
      "source": [
        "# Time to give this output to an LLM\n",
        "import openai\n",
        "\n",
        "client = openai.OpenAI(\n",
        "    api_key=\"your-key\",\n",
        "    base_url=\"https://openrouter.ai/api/v1\" \n",
        ")"
      ]
    },
    {
      "cell_type": "code",
      "execution_count": 17,
      "metadata": {},
      "outputs": [
        {
          "name": "stdout",
          "output_type": "stream",
          "text": [
            "Shutter Island is a Drama, Thriller, Mystery movie about a World War II soldier-turned-U.S. Marshal named Teddy Daniels who investigates the disappearance of a patient from a hospital for the criminally insane. However, his investigation is complicated by his own troubled visions and a mysterious doctor.\n"
          ]
        }
      ],
      "source": [
        "response = client.chat.completions.create(\n",
        "    model=\"meta-llama/llama-3.3-8b-instruct:free\",\n",
        "    messages=[\n",
        "        {\"role\": \"system\", \"content\": \"You are a helpful movie expert.\"},\n",
        "        {\"role\": \"user\", \"content\": f\"\"\"Answer the following question using the context below.\n",
        "\n",
        "        Question: {query}\n",
        "\n",
        "        Context:\n",
        "        {context_text}\n",
        "        \"\"\"}\n",
        "    ]\n",
        ")\n",
        "\n",
        "print(response.choices[0].message.content)"
      ]
    }
  ],
  "metadata": {
    "colab": {
      "provenance": []
    },
    "kernelspec": {
      "display_name": "3.10.13",
      "language": "python",
      "name": "python3"
    },
    "language_info": {
      "codemirror_mode": {
        "name": "ipython",
        "version": 3
      },
      "file_extension": ".py",
      "mimetype": "text/x-python",
      "name": "python",
      "nbconvert_exporter": "python",
      "pygments_lexer": "ipython3",
      "version": "3.10.13"
    }
  },
  "nbformat": 4,
  "nbformat_minor": 0
}
